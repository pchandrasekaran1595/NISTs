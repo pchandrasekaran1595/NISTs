{
  "nbformat": 4,
  "nbformat_minor": 0,
  "metadata": {
    "colab": {
      "name": "MNIST_Baseline_Analysis.ipynb",
      "provenance": [],
      "collapsed_sections": [],
      "authorship_tag": "ABX9TyP1wRWfnz/xOExlT3tgrPHz"
    },
    "kernelspec": {
      "name": "python3",
      "display_name": "Python 3"
    },
    "accelerator": "GPU"
  },
  "cells": [
    {
      "cell_type": "code",
      "metadata": {
        "id": "azR8Zaqip6T1",
        "outputId": "c88275cc-c89d-4594-f49f-bc6409c3001e",
        "colab": {
          "base_uri": "https://localhost:8080/",
          "height": 35
        }
      },
      "source": [
        "from google.colab import drive\n",
        "drive.mount(\"/content/gdrive\")\n",
        "\n",
        "datapath = \"/content/gdrive/My Drive/Datasets/MNIST/\""
      ],
      "execution_count": 1,
      "outputs": [
        {
          "output_type": "stream",
          "text": [
            "Mounted at /content/gdrive\n"
          ],
          "name": "stdout"
        }
      ]
    },
    {
      "cell_type": "markdown",
      "metadata": {
        "id": "lIZKsyZSrSjQ"
      },
      "source": [
        "# Library Imports"
      ]
    },
    {
      "cell_type": "code",
      "metadata": {
        "id": "JlNqK4HWp2s_"
      },
      "source": [
        "import numpy as np\n",
        "import pandas as pd\n",
        "import matplotlib.pyplot as plt\n",
        "\n",
        "from sklearn.preprocessing import StandardScaler\n",
        "from sklearn.model_selection import KFold, StratifiedKFold, GridSearchCV\n",
        "from sklearn.metrics import accuracy_score, f1_score\n",
        "\n",
        "from xgboost import XGBClassifier\n",
        "\n",
        "import torch\n",
        "from torch import nn, optim\n",
        "from torch.utils.data import Dataset\n",
        "from torch.utils.data import DataLoader as DL\n",
        "from torch.nn.utils import weight_norm as WN\n",
        "import torch.nn.functional as F\n",
        "\n",
        "from time import time\n",
        "\n",
        "import random as r"
      ],
      "execution_count": 2,
      "outputs": []
    },
    {
      "cell_type": "markdown",
      "metadata": {
        "id": "HRkarqYvrQpH"
      },
      "source": [
        "# Helper Functions"
      ]
    },
    {
      "cell_type": "code",
      "metadata": {
        "id": "rBIzY_3lrCl-"
      },
      "source": [
        "def breaker():\n",
        "  print(\"\\n\" + 30*\"-\" + \"\\n\")\n",
        "\n",
        "def head(x, no_of_ele=5):\n",
        "  breaker()\n",
        "  print(x[:no_of_ele])\n",
        "  breaker()\n",
        "\n",
        "def getData():\n",
        "  tr = pd.read_csv(datapath + \"train.csv\")\n",
        "  ts = pd.read_csv(datapath + \"test.csv\")\n",
        "\n",
        "  breaker()\n",
        "  print(\"TRAINING SET\")\n",
        "  breaker()\n",
        "  print(tr.head())\n",
        "  print(\"\\nTraining Set Shape :\", repr(tr.shape))\n",
        "  breaker()\n",
        "  print(\"TEST SET\")\n",
        "  breaker()\n",
        "  print(tr.head())\n",
        "  print(\"\\nTest Set Shape     :\", repr(ts.shape))\n",
        "  breaker()\n",
        "\n",
        "  return tr, ts"
      ],
      "execution_count": 3,
      "outputs": []
    },
    {
      "cell_type": "markdown",
      "metadata": {
        "id": "-_1KXpbftEl4"
      },
      "source": [
        "# Data Handling"
      ]
    },
    {
      "cell_type": "markdown",
      "metadata": {
        "id": "GoWjt_SKtIS5"
      },
      "source": [
        "**Inputs** "
      ]
    },
    {
      "cell_type": "code",
      "metadata": {
        "id": "tO48R0S_rMYU",
        "outputId": "b6518a05-83fe-4316-8807-60b1a53a5741",
        "colab": {
          "base_uri": "https://localhost:8080/",
          "height": 659
        }
      },
      "source": [
        "tr_Set, ts_Set = getData()\n",
        "\n",
        "X, y = tr_Set.iloc[:, 1:].copy().values, tr_Set.iloc[:, 0].copy().values\n",
        "\n",
        "X_test, y_test = ts_Set.iloc[:, 1:].copy().values, ts_Set.iloc[:, 0].copy().values\n",
        "\n",
        "del tr_Set, ts_Set\n",
        "\n",
        "num_features = X.shape[1]\n",
        "num_obs_test = X_test.shape[0]"
      ],
      "execution_count": 4,
      "outputs": [
        {
          "output_type": "stream",
          "text": [
            "\n",
            "------------------------------\n",
            "\n",
            "TRAINING SET\n",
            "\n",
            "------------------------------\n",
            "\n",
            "   label  1x1  1x2  1x3  1x4  1x5  ...  28x23  28x24  28x25  28x26  28x27  28x28\n",
            "0      5    0    0    0    0    0  ...      0      0      0      0      0      0\n",
            "1      0    0    0    0    0    0  ...      0      0      0      0      0      0\n",
            "2      4    0    0    0    0    0  ...      0      0      0      0      0      0\n",
            "3      1    0    0    0    0    0  ...      0      0      0      0      0      0\n",
            "4      9    0    0    0    0    0  ...      0      0      0      0      0      0\n",
            "\n",
            "[5 rows x 785 columns]\n",
            "\n",
            "Training Set Shape : (60000, 785)\n",
            "\n",
            "------------------------------\n",
            "\n",
            "TEST SET\n",
            "\n",
            "------------------------------\n",
            "\n",
            "   label  1x1  1x2  1x3  1x4  1x5  ...  28x23  28x24  28x25  28x26  28x27  28x28\n",
            "0      5    0    0    0    0    0  ...      0      0      0      0      0      0\n",
            "1      0    0    0    0    0    0  ...      0      0      0      0      0      0\n",
            "2      4    0    0    0    0    0  ...      0      0      0      0      0      0\n",
            "3      1    0    0    0    0    0  ...      0      0      0      0      0      0\n",
            "4      9    0    0    0    0    0  ...      0      0      0      0      0      0\n",
            "\n",
            "[5 rows x 785 columns]\n",
            "\n",
            "Test Set Shape     : (10000, 785)\n",
            "\n",
            "------------------------------\n",
            "\n"
          ],
          "name": "stdout"
        }
      ]
    },
    {
      "cell_type": "markdown",
      "metadata": {
        "id": "VvG3pAG-tGpn"
      },
      "source": [
        "**Dataset Template**"
      ]
    },
    {
      "cell_type": "code",
      "metadata": {
        "id": "3tEXzWpTsD15"
      },
      "source": [
        "class DS(Dataset):\n",
        "  def __init__(this, X=None, y=None):\n",
        "    this.X = X\n",
        "    this.y = y\n",
        "  \n",
        "  def __len__(this):\n",
        "    return this.X.shape[0]\n",
        "\n",
        "  def __getitem__(this, idx):\n",
        "    return torch.FloatTensor(this.X[idx]), torch.LongTensor(this.y[idx])"
      ],
      "execution_count": 5,
      "outputs": []
    },
    {
      "cell_type": "markdown",
      "metadata": {
        "id": "qWCRYE54tm8u"
      },
      "source": [
        "# XGBoost"
      ]
    },
    {
      "cell_type": "code",
      "metadata": {
        "id": "AQIDRN6ktjTe"
      },
      "source": [
        "#xgb = XGBClassifier(tree_method=\"gpu_hist\")\n",
        "\n",
        "#start_time = time()\n",
        "#n_folds = 4\n",
        "#n_ests = [i*100 for i in range(1, 11)]\n",
        "\n",
        "#params = [{\"n_estimators\" : n_ests}]\n",
        "#gscv = GridSearchCV(estimator=xgb, param_grid=params, scoring=\"accuracy\", cv=n_folds)\n",
        "#gscv.fit(X, y)\n",
        "\n",
        "#breaker()\n",
        "#print(\"Time Taken for {n} Fold CV for {num} different estimator values : {:.2f} seconds\".format((time()-start_time), n=n_folds, num = len(n_ests)))\n",
        "#breaker()\n",
        "#print(gscv.best_params_)\n",
        "#breaker()\n",
        "#print(\"Accuracy of XGB Model: %.2f\" % (accuracy_score(y_test, gscv.predict(X_test))))\n",
        "#breaker()\"\"\"\n",
        "\n",
        "# 2760.43 seconds runtime, n_estimators = 1000, accuracy = 0.98"
      ],
      "execution_count": 6,
      "outputs": []
    },
    {
      "cell_type": "code",
      "metadata": {
        "id": "_u6qmAGy0kDQ",
        "outputId": "1af914bd-e868-40ca-8b87-4ae11f1651b1",
        "colab": {
          "base_uri": "https://localhost:8080/",
          "height": 208
        }
      },
      "source": [
        "start_time = time()\n",
        "\n",
        "xgb = XGBClassifier(n_estimators = 1000, tree_method=\"gpu_hist\", random_state=0)\n",
        "xgb.fit(X, y)\n",
        "y_pred = xgb.predict(X_test)\n",
        "\n",
        "breaker()\n",
        "print(\"Time taken to Train : %.2f minutes\" % ((time()-start_time)/60))\n",
        "breaker()\n",
        "print(\"XGB Model Accuracy  : {:.5f} %\".format(accuracy_score(y_test, y_pred) * 100))\n",
        "breaker()\n",
        "\n",
        "del start_time, xgb, y_pred"
      ],
      "execution_count": 7,
      "outputs": [
        {
          "output_type": "stream",
          "text": [
            "\n",
            "------------------------------\n",
            "\n",
            "Time taken to Train : 2.23 minutes\n",
            "\n",
            "------------------------------\n",
            "\n",
            "XGB Model Accuracy  : 97.76000 %\n",
            "\n",
            "------------------------------\n",
            "\n"
          ],
          "name": "stdout"
        }
      ]
    },
    {
      "cell_type": "markdown",
      "metadata": {
        "id": "fcJETzy7r489"
      },
      "source": [
        "# Artifical Neural Network"
      ]
    },
    {
      "cell_type": "markdown",
      "metadata": {
        "id": "B4N8k3xOr7oa"
      },
      "source": [
        "**Config**"
      ]
    },
    {
      "cell_type": "code",
      "metadata": {
        "id": "nxcx5JrmFnCO"
      },
      "source": [
        "class ANN_CFG():\n",
        "  tr_batch_size = 128\n",
        "  va_batch_size = 128\n",
        "  ts_batch_size = 256\n",
        "\n",
        "  epochs = 20\n",
        "  device = torch.device(\"cuda:0\" if torch.cuda.is_available() else \"cpu\")\n",
        "\n",
        "  IL = num_features\n",
        "  OL = 10\n",
        "\n",
        "cfg = ANN_CFG()"
      ],
      "execution_count": 8,
      "outputs": []
    },
    {
      "cell_type": "markdown",
      "metadata": {
        "id": "gJp2F3eMtGeL"
      },
      "source": [
        "**Setup**"
      ]
    },
    {
      "cell_type": "code",
      "metadata": {
        "id": "3DNXioSmtGGc",
        "outputId": "87f50369-9cd4-4084-e785-1194443244c6",
        "colab": {
          "base_uri": "https://localhost:8080/",
          "height": 191
        }
      },
      "source": [
        "class ANN(nn.Module):\n",
        "  def __init__(this, IL=None, HL=None, OL=None):\n",
        "    super(ANN, this).__init__()\n",
        "\n",
        "    this.BN = nn.BatchNorm1d(IL)\n",
        "    this.FC = WN(nn.Linear(IL, OL))\n",
        "  \n",
        "  def forward(this, x):\n",
        "    x = this.BN(x)\n",
        "    x = F.log_softmax(this.FC(x), dim=1)\n",
        "    return x\n",
        "\n",
        "  def getOptimizer(this):\n",
        "    return optim.Adam(this.parameters(), lr=1e-3)\n",
        "\n",
        "breaker()\n",
        "print(\"Train Batch Size :\", repr(cfg.tr_batch_size))\n",
        "print(\"Valid Batch Size :\", repr(cfg.va_batch_size))\n",
        "print(\"Test Batch Size  :\", repr(cfg.ts_batch_size))\n",
        "print(\"Device Used      :\", cfg.device)\n",
        "breaker()"
      ],
      "execution_count": 9,
      "outputs": [
        {
          "output_type": "stream",
          "text": [
            "\n",
            "------------------------------\n",
            "\n",
            "Train Batch Size : 128\n",
            "Valid Batch Size : 128\n",
            "Test Batch Size  : 256\n",
            "Device Used      : cuda:0\n",
            "\n",
            "------------------------------\n",
            "\n"
          ],
          "name": "stdout"
        }
      ]
    },
    {
      "cell_type": "markdown",
      "metadata": {
        "id": "IbhhJryzz9sL"
      },
      "source": [
        "**Helper Functions**"
      ]
    },
    {
      "cell_type": "code",
      "metadata": {
        "id": "2wIBCy7CvExQ"
      },
      "source": [
        "def train_fn(X=None, y=None):\n",
        "  bestLoss = {\"train\" : np.inf, \"valid\" : np.inf}\n",
        "  LP = []\n",
        "  name_getter = []\n",
        "  n_folds = 4\n",
        "  fold = 0\n",
        "\n",
        "  start_time = time()\n",
        "\n",
        "  for tr_idx, va_idx in StratifiedKFold(n_splits=n_folds, shuffle=True, random_state=0).split(X, y):\n",
        "    breaker()\n",
        "    print(\"Fold {fold}\".format(fold=fold+1))\n",
        "\n",
        "    X_train, X_valid, y_train, y_valid = X[tr_idx], X[va_idx], y[tr_idx], y[va_idx]\n",
        "\n",
        "    tr_data_setup = DS(X_train, y_train.reshape(-1,1))\n",
        "    va_data_setup = DS(X_valid, y_valid.reshape(-1,1))\n",
        "\n",
        "    dataloaders = {\"train\" : DL(tr_data_setup, batch_size=cfg.tr_batch_size, shuffle=True, generator=torch.manual_seed(0)),\n",
        "                   \"valid\" : DL(va_data_setup, batch_size=cfg.va_batch_size, shuffle=False)}\n",
        "\n",
        "    model = ANN(IL=cfg.IL, HL=None, OL=cfg.OL)\n",
        "    model.to(cfg.device)\n",
        "\n",
        "    optimizer = model.getOptimizer()\n",
        "\n",
        "    for e in range(cfg.epochs):\n",
        "      epochLoss = {\"train\" : 0, \"valid\" : 0}\n",
        "      for phase in [\"train\", \"valid\"]:\n",
        "        if phase == \"train\":\n",
        "          model.train()\n",
        "        else:\n",
        "          model.eval()\n",
        "        lossPerPass = 0\n",
        "\n",
        "        for feats, label in dataloaders[phase]:\n",
        "          feats, label = feats.to(cfg.device), label.to(cfg.device)\n",
        "\n",
        "          optimizer.zero_grad()\n",
        "          with torch.set_grad_enabled(phase == \"train\"):\n",
        "            output = model(feats)\n",
        "            loss = nn.NLLLoss()(output, label.view(-1))\n",
        "            if phase == \"train\":\n",
        "              loss.backward()\n",
        "              optimizer.step() \n",
        "          lossPerPass += (loss.item()/label.shape[0])\n",
        "        epochLoss[phase] = lossPerPass\n",
        "      LP.append(epochLoss)\n",
        "      if epochLoss[\"valid\"] < bestLoss[\"valid\"]:\n",
        "        bestLoss = epochLoss\n",
        "        name = \"Model_Fold_{fold}.pt\".format(fold=fold)\n",
        "        name_getter.append(name)\n",
        "        torch.save(model.state_dict(), datapath+name)\n",
        "    fold += 1\n",
        "\n",
        "  breaker()\n",
        "  print(\"Time taken to train for ({fold} folds, {e} epochs) = {:.2f} minutes\".format(float((time() - start_time)/60), fold=n_folds, e=cfg.epochs))\n",
        "  breaker()\n",
        "  print(\"Best Loss :\", repr(bestLoss))\n",
        "  breaker()\n",
        "  return LP, name_getter, model\n",
        "\n",
        "def eval_fn(model=None, names=None, dataloader=None):\n",
        "  final_Pred = np.zeros((num_obs_test, 1))\n",
        "\n",
        "  for name in names:\n",
        "    model.load_state_dict(torch.load(datapath+name))\n",
        "    model.eval()\n",
        "    Preds = torch.zeros(cfg.ts_batch_size, 1).to(cfg.device)\n",
        "    for X, y in dataloader:\n",
        "      X = X.to(cfg.device)\n",
        "      with torch.no_grad():\n",
        "        logProb = model(X)\n",
        "      Prob = torch.exp(logProb)\n",
        "      Pred = torch.argmax(Prob, dim=1)\n",
        "      Preds = torch.cat((Preds, Pred.view(-1,1)), dim=0)\n",
        "    Preds = Preds[cfg.ts_batch_size:].cpu().numpy()\n",
        "    final_Pred = np.add(final_Pred, Preds)\n",
        "  final_Pred = np.divide(final_Pred, len(names))\n",
        "  return Preds.reshape(-1)"
      ],
      "execution_count": 10,
      "outputs": []
    },
    {
      "cell_type": "markdown",
      "metadata": {
        "id": "p8_yj9Ji2U18"
      },
      "source": [
        "**Training**"
      ]
    },
    {
      "cell_type": "code",
      "metadata": {
        "id": "RTHpQfkk2Uck",
        "outputId": "a7dfcd17-d127-4631-d6e4-307f71b2bcc0",
        "colab": {
          "base_uri": "https://localhost:8080/",
          "height": 485
        }
      },
      "source": [
        "LP, Names, Network = train_fn(X, y)\n",
        "\n",
        "LPV = []\n",
        "LPT = []\n",
        "for i in range(len(LP)):\n",
        "  LPT.append(LP[i][\"train\"])\n",
        "  LPV.append(LP[i][\"valid\"])"
      ],
      "execution_count": 11,
      "outputs": [
        {
          "output_type": "stream",
          "text": [
            "\n",
            "------------------------------\n",
            "\n",
            "Fold 1\n",
            "\n",
            "------------------------------\n",
            "\n",
            "Fold 2\n",
            "\n",
            "------------------------------\n",
            "\n",
            "Fold 3\n",
            "\n",
            "------------------------------\n",
            "\n",
            "Fold 4\n",
            "\n",
            "------------------------------\n",
            "\n",
            "Time taken to train for (4 folds, 20 epochs) = 2.24 minutes\n",
            "\n",
            "------------------------------\n",
            "\n",
            "Best Loss : {'train': 0.854954415887025, 'valid': 0.33457242130922776}\n",
            "\n",
            "------------------------------\n",
            "\n"
          ],
          "name": "stdout"
        }
      ]
    },
    {
      "cell_type": "code",
      "metadata": {
        "id": "iUviHQ78xXcr",
        "outputId": "fe734182-9bff-4828-fb93-a4e36c1483b5",
        "colab": {
          "base_uri": "https://localhost:8080/",
          "height": 470
        }
      },
      "source": [
        "xAxis = [i+1 for i in range(cfg.epochs)]\n",
        "\n",
        "plt.figure(figsize=(15, 7.5))\n",
        "plt.subplot(4, 1, 1)\n",
        "plt.plot(xAxis, LPT[:cfg.epochs], \"b\", label=\"Training Loss\")\n",
        "plt.plot(xAxis, LPV[:cfg.epochs], \"r--\", label=\"Validation Loss\")\n",
        "plt.legend()\n",
        "plt.xlabel(\"Epochs\")\n",
        "plt.ylabel(\"Loss\")\n",
        "plt.subplot(4, 1, 2)\n",
        "plt.plot(xAxis, LPT[1*cfg.epochs:2*cfg.epochs], \"b\", label=\"Training Loss\")\n",
        "plt.plot(xAxis, LPV[1*cfg.epochs:2*cfg.epochs], \"r--\", label=\"Validation Loss\")\n",
        "plt.legend()\n",
        "plt.xlabel(\"Epochs\")\n",
        "plt.ylabel(\"Loss\")\n",
        "plt.subplot(4, 1, 3)\n",
        "plt.plot(xAxis, LPT[2*cfg.epochs:3*cfg.epochs], \"b\", label=\"Training Loss\")\n",
        "plt.plot(xAxis, LPV[2*cfg.epochs:3*cfg.epochs], \"r--\", label=\"Validation Loss\")\n",
        "plt.legend()\n",
        "plt.xlabel(\"Epochs\")\n",
        "plt.ylabel(\"Loss\")\n",
        "plt.subplot(4, 1, 4)\n",
        "plt.plot(xAxis, LPT[3*cfg.epochs:4*cfg.epochs], \"b\", label=\"Training Loss\")\n",
        "plt.plot(xAxis, LPV[3*cfg.epochs:4*cfg.epochs], \"r--\", label=\"Validation Loss\")\n",
        "plt.legend()\n",
        "plt.xlabel(\"Epochs\")\n",
        "plt.ylabel(\"Loss\")\n",
        "plt.show()"
      ],
      "execution_count": 12,
      "outputs": [
        {
          "output_type": "display_data",
          "data": {
            "image/png": "[encoded data removed]",
            "text/plain": [
              "<Figure size 1080x540 with 4 Axes>"
            ]
          },
          "metadata": {
            "tags": [],
            "needs_background": "light"
          }
        }
      ]
    },
    {
      "cell_type": "markdown",
      "metadata": {
        "id": "YvsSlwbO3jlI"
      },
      "source": [
        "**Evaluation on Test Set**"
      ]
    },
    {
      "cell_type": "code",
      "metadata": {
        "id": "-FlLF1XL3oPg",
        "outputId": "0d659dcc-3430-411a-e059-284235eb3333",
        "colab": {
          "base_uri": "https://localhost:8080/",
          "height": 139
        }
      },
      "source": [
        "ts_data_setup = DS(X_test, y_test.reshape(-1,1))\n",
        "ts_data = DL(ts_data_setup, batch_size=cfg.ts_batch_size, shuffle=False)\n",
        "\n",
        "y_pred = eval_fn(Network, Names, ts_data)\n",
        "\n",
        "breaker()\n",
        "print(\"ANN Model Accuracy  : {:.5f} %\".format(accuracy_score(y_test, y_pred) * 100))\n",
        "breaker()"
      ],
      "execution_count": 13,
      "outputs": [
        {
          "output_type": "stream",
          "text": [
            "\n",
            "------------------------------\n",
            "\n",
            "ANN Model Accuracy  : 91.87000 %\n",
            "\n",
            "------------------------------\n",
            "\n"
          ],
          "name": "stdout"
        }
      ]
    }
  ]
}
