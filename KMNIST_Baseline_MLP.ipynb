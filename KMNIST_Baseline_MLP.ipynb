{
 "cells": [
  {
   "cell_type": "code",
   "execution_count": 1,
   "metadata": {
    "execution": {
     "iopub.execute_input": "2020-10-22T18:02:49.243307Z",
     "iopub.status.busy": "2020-10-22T18:02:49.242202Z",
     "iopub.status.idle": "2020-10-22T18:02:49.245675Z",
     "shell.execute_reply": "2020-10-22T18:02:49.245036Z"
    },
    "papermill": {
     "duration": 0.025987,
     "end_time": "2020-10-22T18:02:49.245796",
     "exception": false,
     "start_time": "2020-10-22T18:02:49.219809",
     "status": "completed"
    },
    "tags": []
   },
   "outputs": [],
   "source": [
    "#/kaggle/input/Kannada-MNIST/Dig-MNIST.csv - validation\n",
    "#/kaggle/input/Kannada-MNIST/train.csv     - training\n",
    "#/kaggle/input/Kannada-MNIST/test.csv      - test\n",
    "#/kaggle/input/Kannada-MNIST/sample_submission.csv"
   ]
  },
  {
   "cell_type": "markdown",
   "metadata": {
    "papermill": {
     "duration": 0.016588,
     "end_time": "2020-10-22T18:02:49.279549",
     "exception": false,
     "start_time": "2020-10-22T18:02:49.262961",
     "status": "completed"
    },
    "tags": []
   },
   "source": [
    "# Library Imports"
   ]
  },
  {
   "cell_type": "code",
   "execution_count": 2,
   "metadata": {
    "_cell_guid": "b1076dfc-b9ad-4769-8c92-a6c4dae69d19",
    "_uuid": "8f2839f25d086af736a60e9eeb907d3b93b6e0e5",
    "execution": {
     "iopub.execute_input": "2020-10-22T18:02:49.323105Z",
     "iopub.status.busy": "2020-10-22T18:02:49.322342Z",
     "iopub.status.idle": "2020-10-22T18:02:51.720314Z",
     "shell.execute_reply": "2020-10-22T18:02:51.719669Z"
    },
    "papermill": {
     "duration": 2.424488,
     "end_time": "2020-10-22T18:02:51.720444",
     "exception": false,
     "start_time": "2020-10-22T18:02:49.295956",
     "status": "completed"
    },
    "tags": []
   },
   "outputs": [],
   "source": [
    "import numpy as np\n",
    "import pandas as pd\n",
    "import matplotlib.pyplot as plt\n",
    "\n",
    "import torch\n",
    "from torch import nn, optim\n",
    "from torch.utils.data import Dataset\n",
    "from torch.utils.data import DataLoader as DL\n",
    "from torch.nn.utils import weight_norm as WN\n",
    "import torch.nn.functional as F\n",
    "\n",
    "from time import time\n",
    "import random as r\n",
    "\n",
    "from sklearn.preprocessing import StandardScaler\n",
    "from sklearn.model_selection import KFold\n",
    "from sklearn.metrics import accuracy_score, f1_score\n",
    "\n",
    "MAX_VALUE = 255"
   ]
  },
  {
   "cell_type": "markdown",
   "metadata": {
    "papermill": {
     "duration": 0.01625,
     "end_time": "2020-10-22T18:02:51.753473",
     "exception": false,
     "start_time": "2020-10-22T18:02:51.737223",
     "status": "completed"
    },
    "tags": []
   },
   "source": [
    "# Helper Functions"
   ]
  },
  {
   "cell_type": "code",
   "execution_count": 3,
   "metadata": {
    "_cell_guid": "79c7e3d0-c299-4dcb-8224-4455121ee9b0",
    "_uuid": "d629ff2d2480ee46fbb7e2d37f6b5fab8052498a",
    "execution": {
     "iopub.execute_input": "2020-10-22T18:02:51.810371Z",
     "iopub.status.busy": "2020-10-22T18:02:51.809338Z",
     "iopub.status.idle": "2020-10-22T18:02:51.811940Z",
     "shell.execute_reply": "2020-10-22T18:02:51.812507Z"
    },
    "papermill": {
     "duration": 0.033839,
     "end_time": "2020-10-22T18:02:51.812782",
     "exception": false,
     "start_time": "2020-10-22T18:02:51.778943",
     "status": "completed"
    },
    "tags": []
   },
   "outputs": [],
   "source": [
    "def breaker():\n",
    "    print(\"\\n\" + 30*\"-\" + \"\\n\")\n",
    "\n",
    "def head(x, no_of_ele=5):\n",
    "    breaker()\n",
    "    print(x[:no_of_ele])\n",
    "    breaker()\n",
    "\n",
    "def imgPlotter(x=None, idx=None, name=None):\n",
    "    img = x.copy()\n",
    "    img = img.reshape(28, 28)\n",
    "    plt.figure(figsize=(5, 5))\n",
    "    plt.imshow(img)\n",
    "    plt.title(\"{name}_Sample_{idx}\".format(name=name, idx=idx))\n",
    "    plt.show()"
   ]
  },
  {
   "cell_type": "markdown",
   "metadata": {
    "papermill": {
     "duration": 0.017053,
     "end_time": "2020-10-22T18:02:51.847388",
     "exception": false,
     "start_time": "2020-10-22T18:02:51.830335",
     "status": "completed"
    },
    "tags": []
   },
   "source": [
    "# Data Handling"
   ]
  },
  {
   "cell_type": "markdown",
   "metadata": {
    "papermill": {
     "duration": 0.016929,
     "end_time": "2020-10-22T18:02:51.881405",
     "exception": false,
     "start_time": "2020-10-22T18:02:51.864476",
     "status": "completed"
    },
    "tags": []
   },
   "source": [
    "**Inputs**"
   ]
  },
  {
   "cell_type": "code",
   "execution_count": 4,
   "metadata": {
    "execution": {
     "iopub.execute_input": "2020-10-22T18:02:51.928142Z",
     "iopub.status.busy": "2020-10-22T18:02:51.927395Z",
     "iopub.status.idle": "2020-10-22T18:02:59.710858Z",
     "shell.execute_reply": "2020-10-22T18:02:59.710211Z"
    },
    "papermill": {
     "duration": 7.812549,
     "end_time": "2020-10-22T18:02:59.710991",
     "exception": false,
     "start_time": "2020-10-22T18:02:51.898442",
     "status": "completed"
    },
    "tags": []
   },
   "outputs": [
    {
     "name": "stdout",
     "output_type": "stream",
     "text": [
      "\n",
      "------------------------------\n",
      "\n",
      "Train Set Shape : (60000, 785)\n",
      "\n",
      "------------------------------\n",
      "\n",
      "Test Set Shape  : (5000, 785)\n",
      "\n",
      "------------------------------\n",
      "\n",
      "Valid Set Shape : (10240, 785)\n",
      "\n",
      "------------------------------\n",
      "\n"
     ]
    }
   ],
   "source": [
    "tr_Set = pd.read_csv(\"/kaggle/input/Kannada-MNIST/train.csv\")\n",
    "ts_Set = pd.read_csv(\"/kaggle/input/Kannada-MNIST/test.csv\")\n",
    "va_Set = pd.read_csv(\"/kaggle/input/Kannada-MNIST/Dig-MNIST.csv\")\n",
    "\n",
    "breaker()\n",
    "print(\"Train Set Shape :\", repr(tr_Set.shape))\n",
    "breaker()\n",
    "print(\"Test Set Shape  :\", repr(ts_Set.shape))\n",
    "breaker()\n",
    "print(\"Valid Set Shape :\", repr(va_Set.shape))\n",
    "breaker()\n",
    "\n",
    "X_train, y_train = tr_Set.iloc[:, 1:].copy().values, tr_Set.iloc[:, 0].copy().values\n",
    "\n",
    "X_valid, y_valid = va_Set.iloc[:, 1:].copy().values, va_Set.iloc[:, 0].copy().values\n",
    "\n",
    "X_test  = ts_Set.iloc[:, 1:].copy().values\n",
    "\n",
    "del tr_Set, ts_Set, va_Set"
   ]
  },
  {
   "cell_type": "code",
   "execution_count": 5,
   "metadata": {
    "execution": {
     "iopub.execute_input": "2020-10-22T18:02:59.755493Z",
     "iopub.status.busy": "2020-10-22T18:02:59.754535Z",
     "iopub.status.idle": "2020-10-22T18:03:00.322424Z",
     "shell.execute_reply": "2020-10-22T18:03:00.323066Z"
    },
    "papermill": {
     "duration": 0.593142,
     "end_time": "2020-10-22T18:03:00.323227",
     "exception": false,
     "start_time": "2020-10-22T18:02:59.730085",
     "status": "completed"
    },
    "tags": []
   },
   "outputs": [
    {
     "data": {
      "image/png": "[encoded data removed]",
      "text/plain": [
       "<Figure size 360x360 with 1 Axes>"
      ]
     },
     "metadata": {
      "needs_background": "light"
     },
     "output_type": "display_data"
    },
    {
     "data": {
      "image/png": "[encoded data removed]",
      "text/plain": [
       "<Figure size 360x360 with 1 Axes>"
      ]
     },
     "metadata": {
      "needs_background": "light"
     },
     "output_type": "display_data"
    },
    {
     "data": {
      "image/png": "[encoded data removed]",
      "text/plain": [
       "<Figure size 360x360 with 1 Axes>"
      ]
     },
     "metadata": {
      "needs_background": "light"
     },
     "output_type": "display_data"
    }
   ],
   "source": [
    "tr_id = r.randint(0, 60000)\n",
    "ts_id = r.randint(0, 5000)\n",
    "va_id = r.randint(0, 10240)\n",
    "\n",
    "imgPlotter(X_train[tr_id], tr_id, \"Train\")\n",
    "imgPlotter(X_valid[va_id], va_id, \"Valid\")\n",
    "imgPlotter(X_test[ts_id], ts_id, \"Test\")"
   ]
  },
  {
   "cell_type": "markdown",
   "metadata": {
    "papermill": {
     "duration": 0.022253,
     "end_time": "2020-10-22T18:03:00.367778",
     "exception": false,
     "start_time": "2020-10-22T18:03:00.345525",
     "status": "completed"
    },
    "tags": []
   },
   "source": [
    "**Normalizing Pixel Values**"
   ]
  },
  {
   "cell_type": "code",
   "execution_count": 6,
   "metadata": {
    "execution": {
     "iopub.execute_input": "2020-10-22T18:03:00.420339Z",
     "iopub.status.busy": "2020-10-22T18:03:00.418840Z",
     "iopub.status.idle": "2020-10-22T18:03:00.610076Z",
     "shell.execute_reply": "2020-10-22T18:03:00.609230Z"
    },
    "papermill": {
     "duration": 0.22011,
     "end_time": "2020-10-22T18:03:00.610201",
     "exception": false,
     "start_time": "2020-10-22T18:03:00.390091",
     "status": "completed"
    },
    "tags": []
   },
   "outputs": [],
   "source": [
    "X_train = np.divide(X_train, MAX_VALUE)\n",
    "X_valid = np.divide(X_valid, MAX_VALUE)\n",
    "X_test  = np.divide(X_test, MAX_VALUE)\n",
    "\n",
    "num_features = X_train.shape[1]"
   ]
  },
  {
   "cell_type": "markdown",
   "metadata": {
    "papermill": {
     "duration": 0.019762,
     "end_time": "2020-10-22T18:03:00.649950",
     "exception": false,
     "start_time": "2020-10-22T18:03:00.630188",
     "status": "completed"
    },
    "tags": []
   },
   "source": [
    "**Dataset Template**"
   ]
  },
  {
   "cell_type": "code",
   "execution_count": 7,
   "metadata": {
    "execution": {
     "iopub.execute_input": "2020-10-22T18:03:00.700864Z",
     "iopub.status.busy": "2020-10-22T18:03:00.698830Z",
     "iopub.status.idle": "2020-10-22T18:03:00.703865Z",
     "shell.execute_reply": "2020-10-22T18:03:00.703257Z"
    },
    "papermill": {
     "duration": 0.033692,
     "end_time": "2020-10-22T18:03:00.703980",
     "exception": false,
     "start_time": "2020-10-22T18:03:00.670288",
     "status": "completed"
    },
    "tags": []
   },
   "outputs": [],
   "source": [
    "class DS(Dataset):\n",
    "    def __init__(this, X=None, y=None, mode=\"train\"):\n",
    "        this.mode = mode\n",
    "        this.X = X\n",
    "        if mode == \"train\":\n",
    "            this.y = y\n",
    "        \n",
    "    def __len__(this):\n",
    "        return this.X.shape[0]\n",
    "    \n",
    "    def __getitem__(this, idx):\n",
    "        if this.mode == \"train\":\n",
    "            return torch.FloatTensor(this.X[idx]), torch.LongTensor(this.y[idx])\n",
    "        else:\n",
    "            return torch.FloatTensor(this.X[idx])"
   ]
  },
  {
   "cell_type": "markdown",
   "metadata": {
    "papermill": {
     "duration": 0.019836,
     "end_time": "2020-10-22T18:03:00.743935",
     "exception": false,
     "start_time": "2020-10-22T18:03:00.724099",
     "status": "completed"
    },
    "tags": []
   },
   "source": [
    "# ANN"
   ]
  },
  {
   "cell_type": "markdown",
   "metadata": {
    "papermill": {
     "duration": 0.024965,
     "end_time": "2020-10-22T18:03:00.791172",
     "exception": false,
     "start_time": "2020-10-22T18:03:00.766207",
     "status": "completed"
    },
    "tags": []
   },
   "source": [
    "**Config**"
   ]
  },
  {
   "cell_type": "code",
   "execution_count": 8,
   "metadata": {
    "execution": {
     "iopub.execute_input": "2020-10-22T18:03:01.234764Z",
     "iopub.status.busy": "2020-10-22T18:03:01.232109Z",
     "iopub.status.idle": "2020-10-22T18:03:01.240812Z",
     "shell.execute_reply": "2020-10-22T18:03:01.240046Z"
    },
    "papermill": {
     "duration": 0.429526,
     "end_time": "2020-10-22T18:03:01.240936",
     "exception": false,
     "start_time": "2020-10-22T18:03:00.811410",
     "status": "completed"
    },
    "tags": []
   },
   "outputs": [],
   "source": [
    "class ANN_CFG():\n",
    "    tr_batch_size = 128\n",
    "    va_batch_size = 128\n",
    "    ts_batch_size = 128\n",
    "    \n",
    "    epochs = 20\n",
    "    \n",
    "    IL = num_features\n",
    "    HL = [512, 512]\n",
    "    OL = 10\n",
    "    \n",
    "    device = torch.device(\"cuda:0\" if torch.cuda.is_available() else \"cpu\")\n",
    "    \n",
    "cfg = ANN_CFG()\n",
    "\n",
    "tr_data_setup = DS(X_train, y_train.reshape(-1,1))\n",
    "va_data_setup = DS(X_valid, y_valid.reshape(-1,1))\n",
    "\n",
    "dataloaders = {\"train\" : DL(tr_data_setup, batch_size=cfg.tr_batch_size, shuffle=True, generator=torch.manual_seed(0)),\n",
    "               \"valid\" : DL(va_data_setup, batch_size=cfg.va_batch_size, shuffle=False)\n",
    "              }\n",
    " "
   ]
  },
  {
   "cell_type": "markdown",
   "metadata": {
    "papermill": {
     "duration": 0.020415,
     "end_time": "2020-10-22T18:03:01.281970",
     "exception": false,
     "start_time": "2020-10-22T18:03:01.261555",
     "status": "completed"
    },
    "tags": []
   },
   "source": [
    "**Setup**"
   ]
  },
  {
   "cell_type": "code",
   "execution_count": 9,
   "metadata": {
    "execution": {
     "iopub.execute_input": "2020-10-22T18:03:01.341761Z",
     "iopub.status.busy": "2020-10-22T18:03:01.331620Z",
     "iopub.status.idle": "2020-10-22T18:03:06.400576Z",
     "shell.execute_reply": "2020-10-22T18:03:06.398530Z"
    },
    "papermill": {
     "duration": 5.09815,
     "end_time": "2020-10-22T18:03:06.400722",
     "exception": false,
     "start_time": "2020-10-22T18:03:01.302572",
     "status": "completed"
    },
    "tags": []
   },
   "outputs": [
    {
     "name": "stdout",
     "output_type": "stream",
     "text": [
      "\n",
      "------------------------------\n",
      "\n",
      "Train Batch Size : 128\n",
      "Valid Batch Size : 128\n",
      "Test Batch Size  : 128\n",
      "Epochs           : 20\n",
      "Device Used      : device(type='cuda', index=0)\n",
      "\n",
      "Optimizer        : Adam (\n",
      "Parameter Group 0\n",
      "    amsgrad: False\n",
      "    betas: (0.9, 0.999)\n",
      "    eps: 1e-08\n",
      "    lr: 0.001\n",
      "    weight_decay: 0\n",
      ")\n",
      "\n",
      "------------------------------\n",
      "\n"
     ]
    }
   ],
   "source": [
    "class MLP(nn.Module):\n",
    "    def __init__(this, IL=None, HL=None, OL=None):\n",
    "        super(MLP, this).__init__()\n",
    "        \n",
    "        this.BN1 = nn.BatchNorm1d(IL)\n",
    "        this.FC1 = WN(nn.Linear(IL, HL[0]))\n",
    "        \n",
    "        this.BN2 = nn.BatchNorm1d(HL[0])\n",
    "        this.FC2 = WN(nn.Linear(HL[0], HL[1]))\n",
    "        \n",
    "        this.BN3 = nn.BatchNorm1d(HL[1])\n",
    "        this.FC3 = WN(nn.Linear(HL[1], OL))\n",
    "        \n",
    "    def getOptimizer(this):\n",
    "        return optim.Adam(this.parameters(), lr=1e-3, weight_decay=0)\n",
    "    \n",
    "    def forward(this, x):\n",
    "        x = this.BN1(x)\n",
    "        x = F.relu(this.FC1(x))\n",
    "        x = this.BN2(x)\n",
    "        x = F.relu(this.FC2(x))\n",
    "        x = this.BN3(x)\n",
    "        x = F.log_softmax(this.FC3(x), dim=1)\n",
    "        return x\n",
    "\n",
    "Net = MLP(cfg.IL, cfg.HL, cfg.OL)\n",
    "Net.to(cfg.device)\n",
    "\n",
    "optimizer = Net.getOptimizer()\n",
    "\n",
    "breaker()\n",
    "print(\"Train Batch Size :\", repr(cfg.tr_batch_size))\n",
    "print(\"Valid Batch Size :\", repr(cfg.tr_batch_size))\n",
    "print(\"Test Batch Size  :\", repr(cfg.ts_batch_size))\n",
    "print(\"Epochs           :\", repr(cfg.epochs))\n",
    "print(\"Device Used      :\", repr(cfg.device))\n",
    "print(\"\\nOptimizer        :\", optimizer)\n",
    "breaker()"
   ]
  },
  {
   "cell_type": "markdown",
   "metadata": {
    "papermill": {
     "duration": 0.020699,
     "end_time": "2020-10-22T18:03:06.443984",
     "exception": false,
     "start_time": "2020-10-22T18:03:06.423285",
     "status": "completed"
    },
    "tags": []
   },
   "source": [
    "**ANN Helpers**"
   ]
  },
  {
   "cell_type": "code",
   "execution_count": 10,
   "metadata": {
    "execution": {
     "iopub.execute_input": "2020-10-22T18:03:06.511663Z",
     "iopub.status.busy": "2020-10-22T18:03:06.505952Z",
     "iopub.status.idle": "2020-10-22T18:03:06.514615Z",
     "shell.execute_reply": "2020-10-22T18:03:06.514001Z"
    },
    "papermill": {
     "duration": 0.049043,
     "end_time": "2020-10-22T18:03:06.514731",
     "exception": false,
     "start_time": "2020-10-22T18:03:06.465688",
     "status": "completed"
    },
    "tags": []
   },
   "outputs": [],
   "source": [
    "def train_fn(model=None, optimizer=None, dataloaders=None):\n",
    "    bestLoss = {\"train\" : np.inf, \"valid\" : np.inf}\n",
    "    LP = []\n",
    "    \n",
    "    start_time = time()\n",
    "    breaker()\n",
    "    for e in range(cfg.epochs):\n",
    "        print(\"Epoch {e} processing...\".format(e=e))\n",
    "        epochLoss = {\"train\" : 0, \"valid\" : 0}\n",
    "        for phase in [\"train\", \"valid\"]:\n",
    "            if phase == \"train\":\n",
    "                model.train()\n",
    "            else:\n",
    "                model.eval()\n",
    "            lossPerPass = 0\n",
    "            \n",
    "            for X, y in dataloaders[phase]:\n",
    "                X, y = X.to(cfg.device), y.to(cfg.device)\n",
    "                \n",
    "                optimizer.zero_grad()\n",
    "                with torch.set_grad_enabled(phase == \"train\"):\n",
    "                    output = model(X)\n",
    "                    loss   = nn.NLLLoss()(output, y.view(-1))\n",
    "                    if phase == \"train\":\n",
    "                        loss.backward()\n",
    "                        optimizer.step()\n",
    "                lossPerPass += (loss.item()/y.shape[0])\n",
    "            epochLoss[phase] = lossPerPass\n",
    "        LP.append(epochLoss)\n",
    "        if epochLoss[\"valid\"] < bestLoss[\"valid\"]:\n",
    "            bestLoss = epochLoss\n",
    "            name = \"./best_model.pt\"\n",
    "            torch.save(model.state_dict(), name)\n",
    "    \n",
    "    breaker()\n",
    "    print(\"Time Taken to train for {e} epochs : {:.2f} minutes\".format((time()-start_time)/60, e=cfg.epochs))\n",
    "    breaker()\n",
    "    \n",
    "    return LP, name\n",
    "\n",
    "def eval_fn(model=None, name=None, dataloader=None):\n",
    "    Pred = torch.zeros(cfg.ts_batch_size, 1).to(cfg.device)\n",
    "    \n",
    "    model.load_state_dict(torch.load(name))\n",
    "    model.eval()\n",
    "    for X in dataloader:\n",
    "        X = X.to(cfg.device)\n",
    "        with torch.no_grad():\n",
    "            logProb = model(X)\n",
    "        Prob = torch.exp(logProb)\n",
    "        Preds = torch.argmax(Prob, dim=1)\n",
    "        Pred = torch.cat((Pred, Preds.view(-1,1)), dim=0)\n",
    "    Pred = Pred[cfg.ts_batch_size:]\n",
    "    return Pred.cpu().numpy().reshape(-1).astype(int)"
   ]
  },
  {
   "cell_type": "code",
   "execution_count": 11,
   "metadata": {
    "execution": {
     "iopub.execute_input": "2020-10-22T18:03:06.571094Z",
     "iopub.status.busy": "2020-10-22T18:03:06.566876Z",
     "iopub.status.idle": "2020-10-22T18:04:33.750336Z",
     "shell.execute_reply": "2020-10-22T18:04:33.749625Z"
    },
    "papermill": {
     "duration": 87.214463,
     "end_time": "2020-10-22T18:04:33.750466",
     "exception": false,
     "start_time": "2020-10-22T18:03:06.536003",
     "status": "completed"
    },
    "tags": []
   },
   "outputs": [
    {
     "name": "stdout",
     "output_type": "stream",
     "text": [
      "\n",
      "------------------------------\n",
      "\n",
      "Epoch 0 processing...\n",
      "Epoch 1 processing...\n",
      "Epoch 2 processing...\n",
      "Epoch 3 processing...\n",
      "Epoch 4 processing...\n",
      "Epoch 5 processing...\n",
      "Epoch 6 processing...\n",
      "Epoch 7 processing...\n",
      "Epoch 8 processing...\n",
      "Epoch 9 processing...\n",
      "Epoch 10 processing...\n",
      "Epoch 11 processing...\n",
      "Epoch 12 processing...\n",
      "Epoch 13 processing...\n",
      "Epoch 14 processing...\n",
      "Epoch 15 processing...\n",
      "Epoch 16 processing...\n",
      "Epoch 17 processing...\n",
      "Epoch 18 processing...\n",
      "Epoch 19 processing...\n",
      "\n",
      "------------------------------\n",
      "\n",
      "Time Taken to train for 20 epochs : 1.45 minutes\n",
      "\n",
      "------------------------------\n",
      "\n"
     ]
    },
    {
     "data": {
      "image/png": "[encoded data removed]",
      "text/plain": [
       "<Figure size 864x432 with 1 Axes>"
      ]
     },
     "metadata": {
      "needs_background": "light"
     },
     "output_type": "display_data"
    }
   ],
   "source": [
    "LP, name = train_fn(Net, optimizer, dataloaders)\n",
    "\n",
    "LPT = []\n",
    "LPV = []\n",
    "\n",
    "for i in range(len(LP)):\n",
    "    LPT.append(LP[i][\"train\"])\n",
    "    LPV.append(LP[i][\"valid\"])\n",
    "\n",
    "x_Axis = [i+1 for i in range(cfg.epochs)]\n",
    "\n",
    "plt.figure(figsize=(12, 6))\n",
    "plt.plot(x_Axis, LPT, \"r\", label=\"Training Loss\")\n",
    "plt.plot(x_Axis, LPV, \"b--\", label=\"Validation Loss\")\n",
    "plt.xlabel(\"Epochs --->\")\n",
    "plt.ylabel(\"Loss\")\n",
    "plt.legend()\n",
    "plt.show()"
   ]
  },
  {
   "cell_type": "code",
   "execution_count": 12,
   "metadata": {
    "execution": {
     "iopub.execute_input": "2020-10-22T18:04:33.829215Z",
     "iopub.status.busy": "2020-10-22T18:04:33.828327Z",
     "iopub.status.idle": "2020-10-22T18:04:34.277265Z",
     "shell.execute_reply": "2020-10-22T18:04:34.276285Z"
    },
    "papermill": {
     "duration": 0.491615,
     "end_time": "2020-10-22T18:04:34.277394",
     "exception": false,
     "start_time": "2020-10-22T18:04:33.785779",
     "status": "completed"
    },
    "tags": []
   },
   "outputs": [],
   "source": [
    "ts_data_setup = DS(X_test, None, \"test\")\n",
    "ts_data = DL(ts_data_setup, batch_size=cfg.ts_batch_size, shuffle=False)\n",
    "\n",
    "y_pred = eval_fn(Net, name, ts_data)\n",
    "\n",
    "ss = pd.read_csv(\"/kaggle/input/Kannada-MNIST/sample_submission.csv\")\n",
    "ss[\"label\"] = y_pred\n",
    "ss.to_csv(\"./submission.csv\", index=False)"
   ]
  },
  {
   "cell_type": "code",
   "execution_count": null,
   "metadata": {
    "papermill": {
     "duration": 0.030491,
     "end_time": "2020-10-22T18:04:34.339156",
     "exception": false,
     "start_time": "2020-10-22T18:04:34.308665",
     "status": "completed"
    },
    "tags": []
   },
   "outputs": [],
   "source": []
  }
 ],
 "metadata": {
  "kernelspec": {
   "display_name": "Python 3",
   "language": "python",
   "name": "python3"
  },
  "language_info": {
   "codemirror_mode": {
    "name": "ipython",
    "version": 3
   },
   "file_extension": ".py",
   "mimetype": "text/x-python",
   "name": "python",
   "nbconvert_exporter": "python",
   "pygments_lexer": "ipython3",
   "version": "3.7.6"
  },
  "papermill": {
   "duration": 110.960427,
   "end_time": "2020-10-22T18:04:35.500308",
   "environment_variables": {},
   "exception": null,
   "input_path": "__notebook__.ipynb",
   "output_path": "__notebook__.ipynb",
   "parameters": {},
   "start_time": "2020-10-22T18:02:44.539881",
   "version": "2.1.0"
  }
 },
 "nbformat": 4,
 "nbformat_minor": 4
}
